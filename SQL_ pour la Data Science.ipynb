{
 "cells": [
  {
   "cell_type": "markdown",
   "id": "2f438927",
   "metadata": {},
   "source": [
    "### Connexion à la base de données"
   ]
  },
  {
   "cell_type": "code",
   "execution_count": 2,
   "id": "9b02d27c",
   "metadata": {},
   "outputs": [],
   "source": [
    "import sqlite3\n",
    "\n",
    "connexion = sqlite3.connect('jobs.db')"
   ]
  },
  {
   "cell_type": "markdown",
   "id": "e6b332e1",
   "metadata": {},
   "source": [
    "### Créer un curseur et executer une requête SQL sur Python"
   ]
  },
  {
   "cell_type": "code",
   "execution_count": 10,
   "id": "1f291e72",
   "metadata": {},
   "outputs": [],
   "source": [
    "cursor = connexion.cursor()"
   ]
  },
  {
   "cell_type": "code",
   "execution_count": 11,
   "id": "d4f0b69f",
   "metadata": {},
   "outputs": [
    {
     "data": {
      "text/plain": [
       "<sqlite3.Cursor at 0x7fc834873e30>"
      ]
     },
     "execution_count": 11,
     "metadata": {},
     "output_type": "execute_result"
    }
   ],
   "source": [
    "query = \"select * from recent_grads;\"\n",
    "cursor.execute(query)"
   ]
  },
  {
   "cell_type": "code",
   "execution_count": 12,
   "id": "e51194c2",
   "metadata": {},
   "outputs": [],
   "source": [
    "results = cursor.fetchall()"
   ]
  },
  {
   "cell_type": "code",
   "execution_count": 13,
   "id": "e5a413cd",
   "metadata": {},
   "outputs": [
    {
     "name": "stdout",
     "output_type": "stream",
     "text": [
      "[(0, 1, 2419, 'PETROLEUM ENGINEERING', 'Engineering', 2339, 36, 2057, 282, 0.120564344, 1976, 1849, 270, 1207, 37, 0.018380527, 110000, 95000, 125000, 1534, 364, 193), (1, 2, 2416, 'MINING AND MINERAL ENGINEERING', 'Engineering', 756, 7, 679, 77, 0.10185185199999999, 640, 556, 170, 388, 85, 0.117241379, 75000, 55000, 90000, 350, 257, 50), (2, 3, 2415, 'METALLURGICAL ENGINEERING', 'Engineering', 856, 3, 725, 131, 0.153037383, 648, 558, 133, 340, 16, 0.024096386, 73000, 50000, 105000, 456, 176, 0), (3, 4, 2417, 'NAVAL ARCHITECTURE AND MARINE ENGINEERING', 'Engineering', 1258, 16, 1123, 135, 0.107313196, 758, 1069, 150, 692, 40, 0.050125313, 70000, 43000, 80000, 529, 102, 0), (4, 5, 2405, 'CHEMICAL ENGINEERING', 'Engineering', 32260, 289, 21239, 11021, 0.341630502, 25694, 23170, 5180, 16697, 1672, 0.061097712, 65000, 50000, 75000, 18314, 4440, 972)]\n"
     ]
    }
   ],
   "source": [
    "print(results[0:5])"
   ]
  },
  {
   "cell_type": "markdown",
   "id": "0500efdd",
   "metadata": {},
   "source": [
    "### Exercice\n",
    "\n",
    "> - Ecrire une requête qui retourne toutes les valeurs de la colonne Major depuis la table recent_grads.\n",
    "> - Stocker les résultats (liste de tuples) et assigner à la variable majors.\n",
    "> - Enfin, afficher les 5 premiers tuples résultats de majors"
   ]
  },
  {
   "cell_type": "code",
   "execution_count": 15,
   "id": "e10b90bb",
   "metadata": {},
   "outputs": [
    {
     "data": {
      "text/plain": [
       "[('PETROLEUM ENGINEERING',),\n",
       " ('MINING AND MINERAL ENGINEERING',),\n",
       " ('METALLURGICAL ENGINEERING',),\n",
       " ('NAVAL ARCHITECTURE AND MARINE ENGINEERING',),\n",
       " ('CHEMICAL ENGINEERING',)]"
      ]
     },
     "execution_count": 15,
     "metadata": {},
     "output_type": "execute_result"
    }
   ],
   "source": [
    "query = \"select Major from recent_grads;\"\n",
    "majors = cursor.execute(query).fetchall()\n",
    "majors[0:5]"
   ]
  },
  {
   "cell_type": "markdown",
   "id": "7b9d090d",
   "metadata": {},
   "source": [
    "### Chercher un certain nombre de résulats"
   ]
  },
  {
   "cell_type": "code",
   "execution_count": 17,
   "id": "6281d179",
   "metadata": {},
   "outputs": [
    {
     "name": "stdout",
     "output_type": "stream",
     "text": [
      "('PETROLEUM ENGINEERING', 'Engineering')\n",
      "('MINING AND MINERAL ENGINEERING', 'Engineering')\n"
     ]
    }
   ],
   "source": [
    "query = \"select Major, Major_category from recent_grads;\"\n",
    "\n",
    "cursor.execute(query)\n",
    "\n",
    "first = cursor.fetchone()\n",
    "second = cursor.fetchone()\n",
    "print(first)\n",
    "print(second)"
   ]
  },
  {
   "cell_type": "markdown",
   "id": "d3e306c5",
   "metadata": {},
   "source": [
    "### Exercice\n",
    "> - Connectez-vous à la base de données jobs.db\n",
    "> - Ecrire et exécuter une requête qui retourne toutes les majors dans l'ordre alphabétique inverse.\n",
    "> - Assigner le résultat complet à la variable result.\n",
    "> - Enfin, fermer la connexion à la base de données"
   ]
  },
  {
   "cell_type": "code",
   "execution_count": 18,
   "id": "13f174dc",
   "metadata": {},
   "outputs": [
    {
     "name": "stdout",
     "output_type": "stream",
     "text": [
      "[('ZOOLOGY',), ('VISUAL AND PERFORMING ARTS',), ('UNITED STATES HISTORY',), ('TREATMENT THERAPY PROFESSIONS',), ('TRANSPORTATION SCIENCES AND TECHNOLOGIES',), ('THEOLOGY AND RELIGIOUS VOCATIONS',), ('TEACHER EDUCATION: MULTIPLE LEVELS',), ('STUDIO ARTS',), ('STATISTICS AND DECISION SCIENCE',), ('SPECIAL NEEDS EDUCATION',), ('SOIL SCIENCE',), ('SOCIOLOGY',), ('SOCIAL WORK',), ('SOCIAL SCIENCE OR HISTORY TEACHER EDUCATION',), ('SOCIAL PSYCHOLOGY',), ('SECONDARY TEACHER EDUCATION',), ('SCIENCE AND COMPUTER TEACHER EDUCATION',), ('SCHOOL STUDENT COUNSELING',), ('PUBLIC POLICY',), ('PUBLIC ADMINISTRATION',), ('PSYCHOLOGY',), ('PRE-LAW AND LEGAL STUDIES',), ('POLITICAL SCIENCE AND GOVERNMENT',), ('PLANT SCIENCE AND AGRONOMY',), ('PHYSIOLOGY',), ('PHYSICS',), ('PHYSICAL SCIENCES',), ('PHYSICAL FITNESS PARKS RECREATION AND LEISURE',), ('PHYSICAL AND HEALTH EDUCATION TEACHING',), ('PHILOSOPHY AND RELIGIOUS STUDIES',), ('PHARMACY PHARMACEUTICAL SCIENCES AND ADMINISTRATION',), ('PHARMACOLOGY',), ('PETROLEUM ENGINEERING',), ('OTHER FOREIGN LANGUAGES',), ('OPERATIONS LOGISTICS AND E-COMMERCE',), ('OCEANOGRAPHY',), ('NUTRITION SCIENCES',), ('NURSING',), ('NUCLEAR, INDUSTRIAL RADIOLOGY, AND BIOLOGICAL TECHNOLOGIES',), ('NUCLEAR ENGINEERING',), ('NEUROSCIENCE',), ('NAVAL ARCHITECTURE AND MARINE ENGINEERING',), ('NATURAL RESOURCES MANAGEMENT',), ('MUSIC',), ('MULTI/INTERDISCIPLINARY STUDIES',), ('MULTI-DISCIPLINARY OR GENERAL SCIENCE',), ('MOLECULAR BIOLOGY',), ('MISCELLANEOUS SOCIAL SCIENCES',), ('MISCELLANEOUS PSYCHOLOGY',), ('MISCELLANEOUS HEALTH MEDICAL PROFESSIONS',), ('MISCELLANEOUS FINE ARTS',), ('MISCELLANEOUS ENGINEERING TECHNOLOGIES',), ('MISCELLANEOUS ENGINEERING',), ('MISCELLANEOUS EDUCATION',), ('MISCELLANEOUS BUSINESS & MEDICAL ADMINISTRATION',), ('MISCELLANEOUS BIOLOGY',), ('MISCELLANEOUS AGRICULTURE',), ('MINING AND MINERAL ENGINEERING',), ('MILITARY TECHNOLOGIES',), ('MICROBIOLOGY',), ('METALLURGICAL ENGINEERING',), ('MEDICAL TECHNOLOGIES TECHNICIANS',), ('MEDICAL ASSISTING SERVICES',), ('MECHANICAL ENGINEERING RELATED TECHNOLOGIES',), ('MECHANICAL ENGINEERING',), ('MATHEMATICS TEACHER EDUCATION',), ('MATHEMATICS AND COMPUTER SCIENCE',), ('MATHEMATICS',), ('MATERIALS SCIENCE',), ('MATERIALS ENGINEERING AND MATERIALS SCIENCE',), ('MASS MEDIA',), ('MARKETING AND MARKETING RESEARCH',), ('MANAGEMENT INFORMATION SYSTEMS AND STATISTICS',), ('LINGUISTICS AND COMPARATIVE LANGUAGE AND LITERATURE',), ('LIBRARY SCIENCE',), ('LIBERAL ARTS',), ('LANGUAGE AND DRAMA EDUCATION',), ('JOURNALISM',), ('INTERNATIONAL RELATIONS',), ('INTERNATIONAL BUSINESS',), ('INTERDISCIPLINARY SOCIAL SCIENCES',), ('INTERCULTURAL AND INTERNATIONAL STUDIES',), ('INFORMATION SCIENCES',), ('INDUSTRIAL PRODUCTION TECHNOLOGIES',), ('INDUSTRIAL AND ORGANIZATIONAL PSYCHOLOGY',), ('INDUSTRIAL AND MANUFACTURING ENGINEERING',), ('HUMANITIES',), ('HUMAN SERVICES AND COMMUNITY ORGANIZATION',), ('HUMAN RESOURCES AND PERSONNEL MANAGEMENT',), ('HOSPITALITY MANAGEMENT',), ('HISTORY',), ('HEALTH AND MEDICAL PREPARATORY PROGRAMS',), ('HEALTH AND MEDICAL ADMINISTRATIVE SERVICES',), ('GEOSCIENCES',), ('GEOLOGY AND EARTH SCIENCE',), ('GEOLOGICAL AND GEOPHYSICAL ENGINEERING',), ('GEOGRAPHY',), ('GENETICS',), ('GENERAL SOCIAL SCIENCES',), ('GENERAL MEDICAL AND HEALTH SERVICES',), ('GENERAL ENGINEERING',), ('GENERAL EDUCATION',), ('GENERAL BUSINESS',), ('GENERAL AGRICULTURE',), ('FRENCH GERMAN LATIN AND OTHER COMMON FOREIGN LANGUAGE STUDIES',), ('FORESTRY',), ('FOOD SCIENCE',), ('FINE ARTS',), ('FINANCE',), ('FILM VIDEO AND PHOTOGRAPHIC ARTS',), ('FAMILY AND CONSUMER SCIENCES',), ('ENVIRONMENTAL SCIENCE',), ('ENVIRONMENTAL ENGINEERING',), ('ENGLISH LANGUAGE AND LITERATURE',), ('ENGINEERING TECHNOLOGIES',), ('ENGINEERING MECHANICS PHYSICS AND SCIENCE',), ('ENGINEERING AND INDUSTRIAL MANAGEMENT',), ('ELEMENTARY EDUCATION',), ('ELECTRICAL, MECHANICAL, AND PRECISION TECHNOLOGIES AND PRODUCTION',), ('ELECTRICAL ENGINEERING TECHNOLOGY',), ('ELECTRICAL ENGINEERING',), ('EDUCATIONAL PSYCHOLOGY',), ('EDUCATIONAL ADMINISTRATION AND SUPERVISION',), ('ECONOMICS',), ('ECOLOGY',), ('EARLY CHILDHOOD EDUCATION',), ('DRAMA AND THEATER ARTS',), ('CRIMINOLOGY',), ('CRIMINAL JUSTICE AND FIRE PROTECTION',), ('COURT REPORTING',), ('COUNSELING PSYCHOLOGY',), ('COSMETOLOGY SERVICES AND CULINARY ARTS',), ('CONSTRUCTION SERVICES',), ('COMPUTER SCIENCE',), ('COMPUTER PROGRAMMING AND DATA PROCESSING',), ('COMPUTER NETWORKING AND TELECOMMUNICATIONS',), ('COMPUTER ENGINEERING',), ('COMPUTER AND INFORMATION SYSTEMS',), ('COMPUTER ADMINISTRATION MANAGEMENT AND SECURITY',), ('COMPOSITION AND RHETORIC',), ('COMMUNITY AND PUBLIC HEALTH',), ('COMMUNICATIONS',), ('COMMUNICATION TECHNOLOGIES',), ('COMMUNICATION DISORDERS SCIENCES AND SERVICES',), ('COMMERCIAL ART AND GRAPHIC DESIGN',), ('COGNITIVE SCIENCE AND BIOPSYCHOLOGY',), ('CLINICAL PSYCHOLOGY',), ('CIVIL ENGINEERING',), ('CHEMISTRY',), ('CHEMICAL ENGINEERING',), ('BUSINESS MANAGEMENT AND ADMINISTRATION',), ('BUSINESS ECONOMICS',), ('BOTANY',), ('BIOMEDICAL ENGINEERING',), ('BIOLOGY',), ('BIOLOGICAL ENGINEERING',), ('BIOCHEMICAL SCIENCES',), ('ATMOSPHERIC SCIENCES AND METEOROLOGY',), ('ASTRONOMY AND ASTROPHYSICS',), ('ART HISTORY AND CRITICISM',), ('ART AND MUSIC EDUCATION',), ('AREA ETHNIC AND CIVILIZATION STUDIES',), ('ARCHITECTURE',), ('ARCHITECTURAL ENGINEERING',), ('APPLIED MATHEMATICS',), ('ANTHROPOLOGY AND ARCHEOLOGY',), ('ANIMAL SCIENCES',), ('AGRICULTURE PRODUCTION AND MANAGEMENT',), ('AGRICULTURAL ECONOMICS',), ('AEROSPACE ENGINEERING',), ('ADVERTISING AND PUBLIC RELATIONS',), ('ACTUARIAL SCIENCE',), ('ACCOUNTING',)]\n"
     ]
    }
   ],
   "source": [
    "import sqlite3\n",
    "connexion = sqlite3.connect(\"jobs2.db\")\n",
    "query = \"select Major from recent_grads order by Major desc;\"\n",
    "\n",
    "result = connexion.cursor().execute(query).fetchall()\n",
    "print(result)\n",
    "connexion.close()"
   ]
  },
  {
   "cell_type": "code",
   "execution_count": null,
   "id": "25039699",
   "metadata": {},
   "outputs": [],
   "source": []
  }
 ],
 "metadata": {
  "kernelspec": {
   "display_name": "Python 3 (ipykernel)",
   "language": "python",
   "name": "python3"
  },
  "language_info": {
   "codemirror_mode": {
    "name": "ipython",
    "version": 3
   },
   "file_extension": ".py",
   "mimetype": "text/x-python",
   "name": "python",
   "nbconvert_exporter": "python",
   "pygments_lexer": "ipython3",
   "version": "3.8.15"
  }
 },
 "nbformat": 4,
 "nbformat_minor": 5
}
